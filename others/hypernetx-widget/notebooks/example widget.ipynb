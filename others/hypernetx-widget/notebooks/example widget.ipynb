{
 "cells": [
  {
   "cell_type": "code",
   "execution_count": 1,
   "metadata": {},
   "outputs": [
    {
     "data": {
      "application/vnd.jupyter.widget-view+json": {
       "model_id": "3d4e867482ae44f5b742260bea8cdf88",
       "version_major": 2,
       "version_minor": 0
      },
      "text/plain": [
       "HypernetxWidget(component='HypernetxWidget', props={'nodes': [{'uid': 'JV'}, {'uid': 'GP'}, {'uid': 'BR'}, {'u…"
      ]
     },
     "metadata": {},
     "output_type": "display_data"
    }
   ],
   "source": [
    "from hnxwidget import HypernetxWidget\n",
    "import hypernetx as hnx\n",
    "\n",
    "scenes = {\n",
    "    0: ('FN', 'TH'),\n",
    "    1: ('TH', 'JV'),\n",
    "    2: ('BM', 'FN', 'JA'),\n",
    "    3: ('JV', 'JU', 'CH', 'BM'),\n",
    "    4: ('JU', 'CH', 'BR', 'CN', 'CC', 'JV', 'BM'),\n",
    "    5: ('TH', 'GP'),\n",
    "    6: ('GP', 'MP'),\n",
    "    7: ('MA', 'GP'),\n",
    "}\n",
    "\n",
    "H = hnx.Hypergraph(scenes)\n",
    "self = HypernetxWidget(H)\n",
    "self"
   ]
  },
  {
   "cell_type": "code",
   "execution_count": 2,
   "metadata": {},
   "outputs": [
    {
     "data": {
      "text/plain": [
       "{'pos': {},\n",
       " 'node_fill': {},\n",
       " 'edge_stroke': {},\n",
       " 'selected_nodes': {},\n",
       " 'selected_edges': {},\n",
       " 'hidden_nodes': {},\n",
       " 'hidden_edges': {},\n",
       " 'removed_nodes': {},\n",
       " 'removed_edges': {}}"
      ]
     },
     "execution_count": 2,
     "metadata": {},
     "output_type": "execute_result"
    }
   ],
   "source": [
    "self.state"
   ]
  },
  {
   "cell_type": "code",
   "execution_count": 3,
   "metadata": {
    "scrolled": false
   },
   "outputs": [
    {
     "data": {
      "application/vnd.jupyter.widget-view+json": {
       "model_id": "f7da4ced6ac74a9d925446172c7310e4",
       "version_major": 2,
       "version_minor": 0
      },
      "text/plain": [
       "HypernetxWidget(component='HypernetxWidget', props={'nodes': [{'uid': 'JV'}, {'uid': 'GP'}, {'uid': 'BR'}, {'u…"
      ]
     },
     "metadata": {},
     "output_type": "display_data"
    }
   ],
   "source": [
    "HypernetxWidget(H, **self.state)"
   ]
  },
  {
   "cell_type": "code",
   "execution_count": 4,
   "metadata": {
    "scrolled": false
   },
   "outputs": [
    {
     "data": {
      "application/vnd.jupyter.widget-view+json": {
       "model_id": "a588c96ae4c741ae85857e7abc596850",
       "version_major": 2,
       "version_minor": 0
      },
      "text/plain": [
       "HypernetxWidget(component='HypernetxWidget', props={'nodes': [{'uid': 'JV'}, {'uid': 'GP'}, {'uid': 'BR'}, {'u…"
      ]
     },
     "metadata": {},
     "output_type": "display_data"
    }
   ],
   "source": [
    "from hnxwidget import HypernetxWidgetView, HypernetxWidget\n",
    "\n",
    "self = HypernetxWidget(\n",
    "    H,\n",
    "    collapse_nodes=True\n",
    "#     node_labels={'JV': 'Jean Valjean'},\n",
    "#     edge_labels={0: 'LABEL'},\n",
    "#     with_node_labels=False,\n",
    "#     with_edge_labels=False\n",
    ")\n",
    "\n",
    "self"
   ]
  },
  {
   "cell_type": "code",
   "execution_count": 5,
   "metadata": {},
   "outputs": [
    {
     "data": {
      "application/vnd.jupyter.widget-view+json": {
       "model_id": "4241b9fe31914240a807ba971c022910",
       "version_major": 2,
       "version_minor": 0
      },
      "text/plain": [
       "HypernetxWidget(component='HypernetxWidget', props={'nodes': [{'uid': 'JV'}, {'uid': 'GP'}, {'uid': 'BR'}, {'u…"
      ]
     },
     "metadata": {},
     "output_type": "display_data"
    }
   ],
   "source": [
    "import numpy as np\n",
    "import pandas as pd\n",
    "\n",
    "def create_random_data(rows, cols):\n",
    "    return pd.DataFrame(\n",
    "        np.random.random((len(rows), len(cols))),\n",
    "        index=rows,\n",
    "        columns=cols\n",
    "    )\n",
    "\n",
    "self = HypernetxWidget(\n",
    "    H,\n",
    "    node_data=create_random_data(list(H), ['a', 'b']).round(3),\n",
    "    edge_data=create_random_data(list(H.edges), ['c', 'd']).round(3),\n",
    "    node_labels={'JV': 'Jean Valjean'},\n",
    "    edge_labels={0: 'some edge'}\n",
    ")\n",
    "self"
   ]
  }
 ],
 "metadata": {
  "kernelspec": {
   "display_name": "Python 3",
   "language": "python",
   "name": "python3"
  },
  "language_info": {
   "codemirror_mode": {
    "name": "ipython",
    "version": 3
   },
   "file_extension": ".py",
   "mimetype": "text/x-python",
   "name": "python",
   "nbconvert_exporter": "python",
   "pygments_lexer": "ipython3",
   "version": "3.8.5"
  }
 },
 "nbformat": 4,
 "nbformat_minor": 2
}
