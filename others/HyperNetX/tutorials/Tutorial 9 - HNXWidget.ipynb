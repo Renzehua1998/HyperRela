{
 "cells": [
  {
   "cell_type": "markdown",
   "metadata": {},
   "source": [
    "<img src='images/Ebcosette.jpg' width='100px' style=\"float:left;margin-right:10pt\"></img>\n",
    "# LesMis on HNX Widgets\n",
    "\n",
    "We illustrate the \n",
    "<a href=\"https://github.com/pnnl/hypernetx-widget\" target=\"_blank\">Hypernetx-Widget</a>\n",
    "addon for HNX using the LesMis dataset from Tutorials 3 and 4.\n",
    "\n",
    "**Note that this tool is still in development so not all features are connected. Have fun exploring.**"
   ]
  },
  {
   "cell_type": "code",
   "execution_count": 1,
   "metadata": {},
   "outputs": [
    {
     "data": {
      "text/html": [
       "<div>\n",
       "<style scoped>\n",
       "    .dataframe tbody tr th:only-of-type {\n",
       "        vertical-align: middle;\n",
       "    }\n",
       "\n",
       "    .dataframe tbody tr th {\n",
       "        vertical-align: top;\n",
       "    }\n",
       "\n",
       "    .dataframe thead th {\n",
       "        text-align: right;\n",
       "    }\n",
       "</style>\n",
       "<table border=\"1\" class=\"dataframe\">\n",
       "  <thead>\n",
       "    <tr style=\"text-align: right;\">\n",
       "      <th></th>\n",
       "      <th>FullName</th>\n",
       "      <th>Description</th>\n",
       "    </tr>\n",
       "    <tr>\n",
       "      <th>Symbol</th>\n",
       "      <th></th>\n",
       "      <th></th>\n",
       "    </tr>\n",
       "  </thead>\n",
       "  <tbody>\n",
       "    <tr>\n",
       "      <th>AZ</th>\n",
       "      <td>Anzelma</td>\n",
       "      <td>daughter of TH and TM</td>\n",
       "    </tr>\n",
       "    <tr>\n",
       "      <th>BA</th>\n",
       "      <td>Bahorel</td>\n",
       "      <td>`Friends of the ABC' cutup</td>\n",
       "    </tr>\n",
       "    <tr>\n",
       "      <th>BB</th>\n",
       "      <td>Babet</td>\n",
       "      <td>tooth-pulling bandit of Paris</td>\n",
       "    </tr>\n",
       "    <tr>\n",
       "      <th>BJ</th>\n",
       "      <td>Brujon</td>\n",
       "      <td>notorious criminal</td>\n",
       "    </tr>\n",
       "    <tr>\n",
       "      <th>BL</th>\n",
       "      <td>Blacheville</td>\n",
       "      <td>Parisian student from Montauban</td>\n",
       "    </tr>\n",
       "    <tr>\n",
       "      <th>...</th>\n",
       "      <td>...</td>\n",
       "      <td>...</td>\n",
       "    </tr>\n",
       "    <tr>\n",
       "      <th>TS</th>\n",
       "      <td>Toussaint</td>\n",
       "      <td>servant of JV at Rue Plumet</td>\n",
       "    </tr>\n",
       "    <tr>\n",
       "      <th>VI</th>\n",
       "      <td>Madame Victurnien</td>\n",
       "      <td>snoop in M-- sur M--</td>\n",
       "    </tr>\n",
       "    <tr>\n",
       "      <th>XA</th>\n",
       "      <td>Child 1</td>\n",
       "      <td>son of TH sold to MN</td>\n",
       "    </tr>\n",
       "    <tr>\n",
       "      <th>XB</th>\n",
       "      <td>Child 2</td>\n",
       "      <td>son of TH sold to MN</td>\n",
       "    </tr>\n",
       "    <tr>\n",
       "      <th>ZE</th>\n",
       "      <td>Zephine</td>\n",
       "      <td>lover of FA</td>\n",
       "    </tr>\n",
       "  </tbody>\n",
       "</table>\n",
       "<p>80 rows × 2 columns</p>\n",
       "</div>"
      ],
      "text/plain": [
       "                 FullName                       Description\n",
       "Symbol                                                     \n",
       "AZ                Anzelma             daughter of TH and TM\n",
       "BA                Bahorel        `Friends of the ABC' cutup\n",
       "BB                  Babet     tooth-pulling bandit of Paris\n",
       "BJ                 Brujon                notorious criminal\n",
       "BL            Blacheville   Parisian student from Montauban\n",
       "...                   ...                               ...\n",
       "TS              Toussaint       servant of JV at Rue Plumet\n",
       "VI      Madame Victurnien              snoop in M-- sur M--\n",
       "XA                Child 1              son of TH sold to MN\n",
       "XB                Child 2              son of TH sold to MN\n",
       "ZE                Zephine                       lover of FA\n",
       "\n",
       "[80 rows x 2 columns]"
      ]
     },
     "execution_count": 1,
     "metadata": {},
     "output_type": "execute_result"
    }
   ],
   "source": [
    "import numpy as np\n",
    "import pandas as pd\n",
    "import json\n",
    "import hypernetx as hnx\n",
    "from hypernetx.utils.toys.lesmis import LesMis\n",
    "from hnxwidget import HypernetxWidget\n",
    "\n",
    "scenes = {\n",
    "    0: ('FN', 'TH'),\n",
    "    1: ('TH', 'JV'),\n",
    "    2: ('BM', 'FN', 'JA'),\n",
    "    3: ('JV', 'JU', 'CH', 'BM'),\n",
    "    4: ('JU', 'CH', 'BR', 'CN', 'CC', 'JV', 'BM'),\n",
    "    5: ('TH', 'GP'),\n",
    "    6: ('GP', 'MP'),\n",
    "    7: ('MA', 'GP'),\n",
    "}\n",
    "H = hnx.Hypergraph(scenes)\n",
    "dnames = LesMis().dnames\n",
    "dnames"
   ]
  },
  {
   "cell_type": "markdown",
   "metadata": {},
   "source": [
    "## I. LesMis Hypergraph in the Hypernetx-Widget - Default Behavior\n",
    "The widget allows you to interactively move, color, select, and hide objects in the hypergraph. Click on the question mark in the Navigation menu for a description of interactive features."
   ]
  },
  {
   "cell_type": "code",
   "execution_count": 2,
   "metadata": {},
   "outputs": [
    {
     "data": {
      "application/vnd.jupyter.widget-view+json": {
       "model_id": "e352155643ec495fa291518747e804e4",
       "version_major": 2,
       "version_minor": 0
      },
      "text/plain": [
       "HypernetxWidget(component='HypernetxWidget', props={'nodes': [{'uid': 'JU'}, {'uid': 'CC'}, {'uid': 'BM'}, {'u…"
      ]
     },
     "metadata": {},
     "output_type": "display_data"
    }
   ],
   "source": [
    "## Default behavior\n",
    "example1 = HypernetxWidget(H)\n",
    "example1"
   ]
  },
  {
   "cell_type": "markdown",
   "metadata": {},
   "source": [
    "## II. Preset attributes \n",
    "Some of the visualization attributes of the hypergraph may be set using similar parameters as the hnx.draw function"
   ]
  },
  {
   "cell_type": "code",
   "execution_count": 3,
   "metadata": {},
   "outputs": [
    {
     "data": {
      "application/vnd.jupyter.widget-view+json": {
       "model_id": "f9f773978a754c77ad79ed9cad283cca",
       "version_major": 2,
       "version_minor": 0
      },
      "text/plain": [
       "HypernetxWidget(component='HypernetxWidget', props={'nodes': [{'uid': 'JU'}, {'uid': 'CC'}, {'uid': 'BM'}, {'u…"
      ]
     },
     "metadata": {},
     "output_type": "display_data"
    }
   ],
   "source": [
    "node_colors = {k:'r' if k in ['JV','TH','FN'] else 'b' for k in H.nodes}\n",
    "example2 = HypernetxWidget(\n",
    "    H,\n",
    "    nodes_kwargs={'color':node_colors},\n",
    "    edges_kwargs={'edgecolors':'g'}\n",
    ")\n",
    "example2"
   ]
  },
  {
   "cell_type": "markdown",
   "metadata": {},
   "source": [
    "## III. Attributes of visualization:\n",
    "The `get_state()` method returns the attributes available from a widget for reuse.\n",
    "\n",
    "**Note:** if you \"Run All\" this notebook, the following cells may produce an exception. Acquiring the widget state in python requires some time for the widget to initialize and render. Run the cells below individually for best results."
   ]
  },
  {
   "cell_type": "code",
   "execution_count": 4,
   "metadata": {
    "scrolled": true
   },
   "outputs": [
    {
     "data": {
      "text/plain": [
       "{'_dom_classes': (),\n",
       " '_model_module': 'hnx-widget',\n",
       " '_model_module_version': '^0.1.0',\n",
       " '_model_name': 'ReactModel',\n",
       " '_view_count': None,\n",
       " '_view_module': 'hnx-widget',\n",
       " '_view_module_version': '^0.1.0',\n",
       " '_view_name': 'ReactView',\n",
       " 'component': 'HypernetxWidget',\n",
       " 'edge_stroke': {'0': '#008000ff',\n",
       "  '1': '#008000ff',\n",
       "  '2': '#008000ff',\n",
       "  '3': '#008000ff',\n",
       "  '4': '#008000ff',\n",
       "  '5': '#008000ff',\n",
       "  '6': '#008000ff',\n",
       "  '7': '#008000ff'},\n",
       " 'hidden_edges': {},\n",
       " 'hidden_nodes': {},\n",
       " 'layout': 'IPY_MODEL_a3df1d8dc25d4a86b1dfd39341c449d0',\n",
       " 'node_fill': {'JU': '#0000ffff',\n",
       "  'CC': '#0000ffff',\n",
       "  'BM': '#0000ffff',\n",
       "  'JV': '#ff0000ff',\n",
       "  'CN': '#0000ffff',\n",
       "  'FN': '#ff0000ff',\n",
       "  'GP': '#0000ffff',\n",
       "  'CH': '#0000ffff',\n",
       "  'MA': '#0000ffff',\n",
       "  'MP': '#0000ffff',\n",
       "  'TH': '#ff0000ff',\n",
       "  'BR': '#0000ffff',\n",
       "  'JA': '#0000ffff'},\n",
       " 'pos': {'JU': [167.25095746075195, 281.58263454123255],\n",
       "  'CC': [135.75492160545446, 221.81829316643464],\n",
       "  'BM': [278.61480696410683, 212.71528742142323],\n",
       "  'JV': [249.92250491500195, 285.31995810389947],\n",
       "  'CN': [162.53012168959805, 160.79651426243603],\n",
       "  'FN': [454.1961016406691, 258.8662052248289],\n",
       "  'GP': [424.8654480047309, 504.3322298621465],\n",
       "  'CH': [229.60838922887152, 166.67980235536837],\n",
       "  'MA': [489.50473371013675, 576.6717592487552],\n",
       "  'MP': [344.83880096715603, 560.1598468493333],\n",
       "  'TH': [421.5436288772694, 370.8729072562323],\n",
       "  'BR': [201.4076830402482, 226.98341329000954],\n",
       "  'JA': [427.60515300786, 194.81917087602267]},\n",
       " 'props': {'nodes': [{'uid': 'JU'},\n",
       "   {'uid': 'CC'},\n",
       "   {'uid': 'BM'},\n",
       "   {'uid': 'JV'},\n",
       "   {'uid': 'CN'},\n",
       "   {'uid': 'FN'},\n",
       "   {'uid': 'GP'},\n",
       "   {'uid': 'CH'},\n",
       "   {'uid': 'MA'},\n",
       "   {'uid': 'MP'},\n",
       "   {'uid': 'TH'},\n",
       "   {'uid': 'BR'},\n",
       "   {'uid': 'JA'}],\n",
       "  'edges': [{'uid': '0', 'elements': ['TH', 'FN']},\n",
       "   {'uid': '1', 'elements': ['TH', 'JV']},\n",
       "   {'uid': '2', 'elements': ['FN', 'JA', 'BM']},\n",
       "   {'uid': '3', 'elements': ['JU', 'BM', 'CH', 'JV']},\n",
       "   {'uid': '4', 'elements': ['JU', 'JV', 'BM', 'CN', 'CH', 'BR', 'CC']},\n",
       "   {'uid': '5', 'elements': ['TH', 'GP']},\n",
       "   {'uid': '6', 'elements': ['MP', 'GP']},\n",
       "   {'uid': '7', 'elements': ['MA', 'GP']}],\n",
       "  'nodeFill': {'JU': '#0000ffff',\n",
       "   'CC': '#0000ffff',\n",
       "   'BM': '#0000ffff',\n",
       "   'JV': '#ff0000ff',\n",
       "   'CN': '#0000ffff',\n",
       "   'FN': '#ff0000ff',\n",
       "   'GP': '#0000ffff',\n",
       "   'CH': '#0000ffff',\n",
       "   'MA': '#0000ffff',\n",
       "   'MP': '#0000ffff',\n",
       "   'TH': '#ff0000ff',\n",
       "   'BR': '#0000ffff',\n",
       "   'JA': '#0000ffff'},\n",
       "  'edgeStroke': {'0': '#008000ff',\n",
       "   '1': '#008000ff',\n",
       "   '2': '#008000ff',\n",
       "   '3': '#008000ff',\n",
       "   '4': '#008000ff',\n",
       "   '5': '#008000ff',\n",
       "   '6': '#008000ff',\n",
       "   '7': '#008000ff'},\n",
       "  'edgeStrokeWidth': {'0': 2,\n",
       "   '1': 2,\n",
       "   '2': 2,\n",
       "   '3': 2,\n",
       "   '4': 2,\n",
       "   '5': 2,\n",
       "   '6': 2,\n",
       "   '7': 2},\n",
       "  'edgeLabelColor': {'0': '#008000ff',\n",
       "   '1': '#008000ff',\n",
       "   '2': '#008000ff',\n",
       "   '3': '#008000ff',\n",
       "   '4': '#008000ff',\n",
       "   '5': '#008000ff',\n",
       "   '6': '#008000ff',\n",
       "   '7': '#008000ff'},\n",
       "  '_model': 'IPY_MODEL_f9f773978a754c77ad79ed9cad283cca'},\n",
       " 'removed_edges': {},\n",
       " 'removed_nodes': {},\n",
       " 'selected_edges': {},\n",
       " 'selected_nodes': {}}"
      ]
     },
     "execution_count": 4,
     "metadata": {},
     "output_type": "execute_result"
    }
   ],
   "source": [
    "example2.get_state()"
   ]
  },
  {
   "cell_type": "markdown",
   "metadata": {},
   "source": [
    "## IV. Reuse attributes\n",
    "Once an attribute of a widget visualization has been set it may be reused in another visualization"
   ]
  },
  {
   "cell_type": "code",
   "execution_count": 5,
   "metadata": {},
   "outputs": [
    {
     "data": {
      "application/vnd.jupyter.widget-view+json": {
       "model_id": "ed794c6bf56d42008bb673c9a8d123c9",
       "version_major": 2,
       "version_minor": 0
      },
      "text/plain": [
       "HypernetxWidget(component='HypernetxWidget', props={'nodes': [{'uid': 'JU'}, {'uid': 'CC'}, {'uid': 'BM'}, {'u…"
      ]
     },
     "metadata": {},
     "output_type": "display_data"
    }
   ],
   "source": [
    "example3 = HypernetxWidget(\n",
    "    H,\n",
    "    nodes_kwargs={'color': example2.node_fill}\n",
    ")\n",
    "\n",
    "example3"
   ]
  },
  {
   "cell_type": "markdown",
   "metadata": {},
   "source": [
    "## V. Setting Labels and Callouts\n",
    "We can also adjust specific labels and add call outs as node or edge data."
   ]
  },
  {
   "cell_type": "code",
   "execution_count": 6,
   "metadata": {
    "scrolled": false
   },
   "outputs": [
    {
     "data": {
      "application/vnd.jupyter.widget-view+json": {
       "model_id": "d1348669567a441586ccf9c17bdb20fe",
       "version_major": 2,
       "version_minor": 0
      },
      "text/plain": [
       "HypernetxWidget(component='HypernetxWidget', props={'nodes': [{'uid': 'JU'}, {'uid': 'CC'}, {'uid': 'BM'}, {'u…"
      ]
     },
     "metadata": {},
     "output_type": "display_data"
    }
   ],
   "source": [
    "example4 = HypernetxWidget(\n",
    "    H,\n",
    "    collapse_nodes=True,\n",
    "    node_data=dnames,\n",
    "    node_labels={'JV': 'Valjean'},\n",
    "    edge_labels={0: 'scene 0'},\n",
    "    nodes_kwargs={'color':'pink'},\n",
    ")\n",
    "\n",
    "example4"
   ]
  }
 ],
 "metadata": {
  "kernelspec": {
   "display_name": "Python 3",
   "language": "python",
   "name": "python3"
  },
  "language_info": {
   "codemirror_mode": {
    "name": "ipython",
    "version": 3
   },
   "file_extension": ".py",
   "mimetype": "text/x-python",
   "name": "python",
   "nbconvert_exporter": "python",
   "pygments_lexer": "ipython3",
   "version": "3.8.5"
  }
 },
 "nbformat": 4,
 "nbformat_minor": 2
}
