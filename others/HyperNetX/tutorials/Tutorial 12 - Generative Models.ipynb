{
 "cells": [
  {
   "cell_type": "markdown",
   "source": [
    "## Generating hypergraphs using random models\n",
    "\n",
    "This tutorial and all supporting code were developed by Mirah Shi, Sinan Aksoy, and Nicholas Landry.\n",
    "\n",
    "Implementation of and tutorial using two hypergraph generative models: \n",
    "1. [Erdös–Rényi](#erdosrenyi)\n",
    "2. [Chung-Lu](#chunglu)\n",
    "\n",
    "Hypergraph Erdös–Rényi and Chung-Lu implementations are described in\n",
    "\n",
    "> S. Aksoy, T.G. Kolda, and A. Pinar. Measuring and modeling bipartite graphs with community struc-ture. In:Journal of Complex Networks 5.4 (Mar. 2017), pp. 581–603.\n",
    "\n",
    "and adapt the algorithm in\n",
    "\n",
    "> J. C. Miller and A. Hagberg. Efficient generation of networks with given expected degrees. In 8th International\n",
    "Conference on Algorithms and Models for the Web Graph (2011), pp. 115–126."
   ],
   "metadata": {}
  },
  {
   "cell_type": "markdown",
   "source": [
    "<img src='images/genmodels_hypergraph.png' width='200px' style=\"float:left;margin-right:10pt\"></img>\n",
    "\n",
    "Generative models are useful tools in network science for their ability to approximate real data. Datasets are typically of a fixed size and generative models allow us to create networks with similar properties, but of arbitrary size. These models can be used as a proxy when the real data may too sensitive to reveal. Lastly, we can use generative models for *inference*, where given a real network and a generative model, we can calculate which parameters best match the given data. We can extend these network science ideas to networks where interactions can happen between greater than two entities."
   ],
   "metadata": {}
  },
  {
   "cell_type": "code",
   "execution_count": null,
   "source": [
    "import hypernetx.algorithms.generative_models as gm\n",
    "import hypernetx as hnx\n",
    "import random\n",
    "import matplotlib.pyplot as plt\n",
    "import time\n",
    "from collections import Counter"
   ],
   "outputs": [],
   "metadata": {}
  },
  {
   "cell_type": "markdown",
   "source": [
    "## Erdös–Rényi Hypergraphs <a id=\"erdosrenyi\"></a>\n",
    "\n",
    "<img src='images/erdosrenyi.png' width='200px' style=\"float:left;margin-right:10pt\"></img>\n",
    "\n",
    "\n",
    "In the article [Measuring and modeling bipartite graphs with community structure](https://doi.org/10.1093/comnet/cnx001) by Aksoy et al., they define the bipartite version of the network Erdös–Rényi model. Any bipartite network can be expressed as a hypergraph if one layer is defined as the nodes and the other layer is defined as the edges. We developed an efficient algorithm based on the [Miller-Hagberg approach](https://doi.org/10.1007/978-3-642-21286-4_10) that runs in $O(N+M)$ complexity by drawing from a geometric distribution instead of the naive algorithm that runs in $O(NM)$ time by iterating through every combination and performing a weighted coin-flip."
   ],
   "metadata": {}
  },
  {
   "cell_type": "code",
   "execution_count": null,
   "source": [
    "n = 1000\n",
    "m = n\n",
    "p = 0.01\n",
    "\n",
    "# generate ER hypergraph\n",
    "H = gm.erdos_renyi_hypergraph(n, m, p)"
   ],
   "outputs": [],
   "metadata": {}
  },
  {
   "cell_type": "markdown",
   "source": [
    "Calculate the number of expected and generated vertex-hyperedge pairs"
   ],
   "metadata": {}
  },
  {
   "cell_type": "code",
   "execution_count": null,
   "source": [
    "print('Expected # pairs: ', int(n*m*p))\n",
    "print('Output # pairs: ', H.incidence_matrix().count_nonzero())"
   ],
   "outputs": [],
   "metadata": {}
  },
  {
   "cell_type": "markdown",
   "source": [
    "## Chung-Lu Hypergraph <a id=\"chunglu\"></a>\n",
    "\n",
    "<img src='images/chunglu.png' width='200px' style=\"float:left;margin-right:10pt\"></img>\n",
    "\n",
    "Also in the article [Measuring and modeling bipartite graphs with community structure](https://doi.org/10.1093/comnet/cnx001) by Aksoy et al., they define the bipartite version of the network Chung-Lu model. Like before, we can generate a bipartite network and define one layer as the nodes and the other layer as the edges. We developed an efficient algorithm based on the [Miller-Hagberg approach](https://doi.org/10.1007/978-3-642-21286-4_10) that runs in $O(N+M)$ complexity instead of the naive algorithm that runs in $O(NM)$ time. Unlike the Erdös–Rényi case, in the Chung-Lu model, the probabilities vary by degree, so in addition to drawing from a geometric distribution, we sort the degrees in reverse order and perform rejection sampling.\n",
    "\n",
    "The Chung-Lu model fulfills a degree distribution in expectation. Given degree distributions $W_n=\\{w_1^v,...,w_n^v\\}, W_m=\\{w_1^e,...,w_m^e\\}$ for vertices and hyperedges respectively, the hypergraph Chung-Lu model assigns vertex $i$ to hyperedge $j$ with probability $$p_{ij}=\\frac{w_i^v w_j^e}{S},$$ where $$S=\\sum_{i=1}^n w_i^v=\\sum_{j=1}^m w_j^e$$"
   ],
   "metadata": {}
  },
  {
   "cell_type": "markdown",
   "source": [
    "### Example hypergraph\n",
    "\n",
    "We use a preprocessed disease-gene dataset (available from https://www.disgenet.org/downloads) and create a hypergraph with genes as vertices and diseases as hyperedges. Then we extract the degree sequences as input to ``chung_lu_hypergraph``."
   ],
   "metadata": {}
  },
  {
   "cell_type": "code",
   "execution_count": null,
   "source": [
    "gene_data = hnx.utils.toys.GeneData()\n",
    "genes = gene_data.genes\n",
    "diseases = gene_data.diseases\n",
    "disease_gene_network = gene_data.disease_gene_network\n",
    "print('Number of vertices: ', len(genes))\n",
    "print('Number of hyperedges: ', len(diseases))"
   ],
   "outputs": [],
   "metadata": {}
  },
  {
   "cell_type": "markdown",
   "source": [
    "### Construct degree sequences\n",
    "\n",
    "Label vertices and hyperedges with their desired degree:"
   ],
   "metadata": {}
  },
  {
   "cell_type": "code",
   "execution_count": null,
   "source": [
    "k1 = {n: d for n, d in disease_gene_network.degree() if n in genes}\n",
    "k2 = {n: d for n, d in disease_gene_network.degree() if n in diseases}"
   ],
   "outputs": [],
   "metadata": {}
  },
  {
   "cell_type": "markdown",
   "source": [
    "### Create Chung-Lu hypergraph\n",
    "\n",
    "``chung_lu_hypergraph`` generates a bipartite edge list, or equivalently, a list of vertex-hyperedge pairs and outputs it as a HyperNetX object."
   ],
   "metadata": {}
  },
  {
   "cell_type": "code",
   "execution_count": null,
   "source": [
    "H = gm.chung_lu_hypergraph(k1, k2)"
   ],
   "outputs": [],
   "metadata": {}
  },
  {
   "cell_type": "markdown",
   "source": [
    "### Visualize results"
   ],
   "metadata": {}
  },
  {
   "cell_type": "code",
   "execution_count": null,
   "source": [
    "\n",
    "# plot desired vs output degree distribution\n",
    "node_degrees = [H.degree(node) for node in H.nodes]\n",
    "edge_degrees = H.edge_size_dist()\n",
    "\n",
    "fig, ax = plt.subplots(1, 2, figsize=(14,5))\n",
    "ax[0].scatter(Counter(k1.values()).keys(), Counter(k1.values()).values(), color='orange', s=8, label='DisGene')\n",
    "ax[0].scatter(Counter(node_degrees).keys(), Counter(node_degrees).values(), color='blue', s=8, label='Chung-Lu hypergraph')\n",
    "ax[0].set_xscale('log')\n",
    "ax[0].set_yscale('log')\n",
    "ax[0].set_xlabel('Degree')\n",
    "ax[0].set_ylabel('Count')\n",
    "ax[0].set_title('Vertex degree distribution')\n",
    "ax[0].legend(loc='best')\n",
    "\n",
    "ax[1].scatter(Counter(k2.values()).keys(), Counter(k2.values()).values(), color='orange', s=8, label='DisGene')\n",
    "ax[1].scatter(Counter(edge_degrees).keys(), Counter(edge_degrees).values(), color='blue', s=8, label='Chung-Lu hypergraph')\n",
    "ax[1].set_xscale('log')\n",
    "ax[1].set_yscale('log')\n",
    "ax[1].set_xlabel('Degree')\n",
    "ax[1].set_ylabel('Count')\n",
    "ax[1].set_title('Hyperedge degree distribution')\n",
    "ax[1].legend(loc='best')\n",
    "plt.show()"
   ],
   "outputs": [],
   "metadata": {}
  },
  {
   "cell_type": "markdown",
   "source": [
    "As we can see, the Chung-Lu model does not match the degree distribution exactly (notice the small tail of the distribution of actual degrees in contrast to the desired degree distribution)"
   ],
   "metadata": {}
  },
  {
   "cell_type": "markdown",
   "source": [
    "This algorithm, as mentioned before, has linear time complexity $O(N+M)$. We can test this out by plotting the hypergraph generation time with respect to $N+M$."
   ],
   "metadata": {}
  },
  {
   "cell_type": "code",
   "execution_count": null,
   "source": [
    "\n",
    "n = [500, 500, 500, 1000, 1000, 1000]\n",
    "m = [100, 500, 1000, 1000, 5000, 10000]\n",
    "m_and_n = list()\n",
    "generation_time = list()\n",
    "\n",
    "for i in range(len(n)):\n",
    "    k1 = {j : random.randint(1, 10) for j in range(n[i])}\n",
    "    k2 = {j : random.randint(1, 10) for j in range(m[i])}\n",
    "\n",
    "    m_and_n.append(n[i] + m[i])\n",
    "\n",
    "    start = time.time()    \n",
    "    H = gm.chung_lu_hypergraph(k1, k2)\n",
    "    generation_time.append(time.time() - start)\n",
    "\n"
   ],
   "outputs": [],
   "metadata": {}
  },
  {
   "cell_type": "code",
   "execution_count": null,
   "source": [
    "plt.plot(m_and_n, generation_time, 'ko-')\n",
    "plt.xlabel(r\"$M+N$\")\n",
    "plt.ylabel(\"Generation time (s)\")\n",
    "plt.show()"
   ],
   "outputs": [],
   "metadata": {}
  },
  {
   "cell_type": "markdown",
   "source": [
    "From the plot, we can see (sans artifacts for small $M+N$) that there is a roughly linear relationship as we predicted."
   ],
   "metadata": {}
  }
 ],
 "metadata": {
  "interpreter": {
   "hash": "4b11832e3fb1d317fabfdf226ff96dd8761e1caa77b8bb75a64cd45c858a9356"
  },
  "kernelspec": {
   "name": "python3",
   "display_name": "Python 3.9.4 64-bit ('hypergraph': conda)"
  },
  "language_info": {
   "name": "python",
   "version": "3.9.4",
   "mimetype": "text/x-python",
   "codemirror_mode": {
    "name": "ipython",
    "version": 3
   },
   "pygments_lexer": "ipython3",
   "nbconvert_exporter": "python",
   "file_extension": ".py"
  }
 },
 "nbformat": 4,
 "nbformat_minor": 2
}