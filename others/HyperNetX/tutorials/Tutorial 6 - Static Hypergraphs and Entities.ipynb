{
 "cells": [
  {
   "cell_type": "code",
   "execution_count": null,
   "metadata": {},
   "outputs": [],
   "source": [
    "#!pip install hypernetx"
   ]
  },
  {
   "cell_type": "code",
   "execution_count": null,
   "metadata": {},
   "outputs": [],
   "source": [
    "#!pip install networkx"
   ]
  },
  {
   "cell_type": "markdown",
   "metadata": {},
   "source": [
    "<img src='images/harrypotter_image.png' width='200px' style=\"float:left;margin-right:10pt\"></img>\n",
    "# Illustration of Static Hypergraphs using Kaggle's HarryPotter dataset.\n",
    "\n",
    "In this tutorial we introduce `hypernetx.StaticEntity` and `hypernetx.StaticEntitySet` and the new `static=True` attribute in the `hypernetx.Hypergraph` class. \n",
    "\n",
    "Harry Potter Data is available here: https://www.kaggle.com/gulsahdemiryurek/harry-potter-dataset.\n",
    "\n",
    "Python code for parsing the dataset is in `harrypotter.py` in the `hypernetx/utils/toys directory`."
   ]
  },
  {
   "cell_type": "code",
   "execution_count": null,
   "metadata": {},
   "outputs": [],
   "source": [
    "import hypernetx as hnx\n",
    "import networkx as nx\n",
    "import matplotlib.pyplot as plt\n"
   ]
  },
  {
   "cell_type": "markdown",
   "metadata": {},
   "source": [
    "## The Harry Potter Dataset: \n",
    "To use a csv file for a Static Hypergraph, we need every cell filled with a label. \n",
    "We have edited the Harry Potter dataset so that it has 5 categories and every cell is filled. Where a value is unknown, we marked it as \"Unknown *category_name*\". "
   ]
  },
  {
   "cell_type": "code",
   "execution_count": null,
   "metadata": {},
   "outputs": [],
   "source": [
    "hogwarts = hnx.HarryPotter()"
   ]
  },
  {
   "cell_type": "code",
   "execution_count": null,
   "metadata": {
    "scrolled": false
   },
   "outputs": [],
   "source": [
    "hogwarts.dataframe"
   ]
  },
  {
   "cell_type": "markdown",
   "metadata": {},
   "source": [
    "### We define a labeling based on the categories and store it in an Ordered Dictionary.\n",
    "The ordering of labels is determined by their order of appearance in the table with the exception of Unknown labels, which are always listed first."
   ]
  },
  {
   "cell_type": "code",
   "execution_count": null,
   "metadata": {
    "scrolled": true
   },
   "outputs": [],
   "source": [
    "hogwarts.labels"
   ]
  },
  {
   "cell_type": "markdown",
   "metadata": {},
   "source": [
    "### Assign unique ids to the label values \n",
    "We encode the data in each column of the dataframe using a sequence of integers and store the coded data along with a translator function to retrieve the original names as needed. Here we remove duplicate rows but counts could be collected for a weighting scheme. **Watch for a near future release.**"
   ]
  },
  {
   "cell_type": "code",
   "execution_count": null,
   "metadata": {},
   "outputs": [],
   "source": [
    "## List of nonzero indices\n",
    "hogwarts.data"
   ]
  },
  {
   "cell_type": "code",
   "execution_count": null,
   "metadata": {},
   "outputs": [],
   "source": [
    "hogwarts.data.shape"
   ]
  },
  {
   "cell_type": "markdown",
   "metadata": {},
   "source": [
    "## StaticEntity and StaticEntitySet\n",
    "\n",
    "The entire dataset has now been represented using a data array and a dictionary associating columns and integers with labels and values in the original data.\n",
    "\n",
    "The basic object in HyperNetX, which holds the data and label dictionary for a static hypergraph, is a `StaticEntity`. Similar to the `hnx.Entity` class, the data structure rests in the background to hold the data for flexibly switching between different orders of containment.\n",
    "\n",
    "Each column of the data is considered a **level** in the StaticEntity. A level's order corresponds to its column position in the datatable. The column header serves as a key to the label dictionary."
   ]
  },
  {
   "cell_type": "code",
   "execution_count": null,
   "metadata": {},
   "outputs": [],
   "source": [
    "E = hnx.StaticEntity(data = hogwarts.data, labels = hogwarts.labels)\n",
    "E.keys"
   ]
  },
  {
   "cell_type": "markdown",
   "metadata": {},
   "source": [
    "### A StaticEntitySet is a StaticEntity restricted to two levels. \n",
    "By default, a StaticEntity will grab the 1st two levels of the data and first two keys of the labels, but any pair of levels may be specified. "
   ]
  },
  {
   "cell_type": "code",
   "execution_count": null,
   "metadata": {},
   "outputs": [],
   "source": [
    "ES = hnx.StaticEntitySet(E)\n",
    "ES.labels"
   ]
  },
  {
   "cell_type": "markdown",
   "metadata": {},
   "source": [
    "## Static Hypergraph\n",
    "A static hypergraph is one where all nodes and edges are known at the time of construction. This permits an internal ordering and uid structure for easy reference and faster computation of metrics.\n",
    "\n",
    "**Static Hypegraphs can be instantiated with a StaticEntitySet similar to the way a dynamic hypergrapah can be instantiated using an EntitySet.**\n",
    "\n",
    "\n"
   ]
  },
  {
   "cell_type": "code",
   "execution_count": null,
   "metadata": {
    "scrolled": false
   },
   "outputs": [],
   "source": [
    "H = hnx.Hypergraph(ES,static=True,name='Hogwarts')\n"
   ]
  },
  {
   "cell_type": "markdown",
   "metadata": {},
   "source": [
    "**But we can also pass the dataframe and specify which columns we want to use as edges and nodes. The default behavior is to use the first two columns.**\n",
    "$$\\text{df}[\\text{edge_column},\\text{node_column}]$$"
   ]
  },
  {
   "cell_type": "code",
   "execution_count": null,
   "metadata": {},
   "outputs": [],
   "source": [
    "H = hnx.Hypergraph(hogwarts.dataframe)\n",
    "H.edges,H.nodes"
   ]
  },
  {
   "cell_type": "code",
   "execution_count": null,
   "metadata": {},
   "outputs": [],
   "source": [
    "plt.title('Hogwarts Hypergraph',fontsize=20)\n",
    "hnx.draw(H)"
   ]
  },
  {
   "cell_type": "markdown",
   "metadata": {},
   "source": [
    "## General construction of a static Hypergraph:\n",
    "Set the parameter `static=True` inside the hypergraph constructor and input a set system just as you did before. If the set system is a pandas dataframe, a StaticEntity or a StaticEntitySet, the parameter is automaticaly set to True."
   ]
  },
  {
   "cell_type": "code",
   "execution_count": null,
   "metadata": {},
   "outputs": [],
   "source": [
    "## example:\n",
    "simple_data = {'A':{1,2,3},'B':{2,3,4},'C':{3,4,5}}\n",
    "simple_static_hypergraph = SSH = hnx.Hypergraph(simple_data, static=True)\n",
    "hnx.draw(SSH)"
   ]
  },
  {
   "cell_type": "code",
   "execution_count": null,
   "metadata": {},
   "outputs": [],
   "source": [
    "SSH.isstatic"
   ]
  },
  {
   "cell_type": "markdown",
   "metadata": {},
   "source": [
    "#### Static Hypergraphs are immutable. You can't add or remove nodes or edges. Uncomment the last line below and try it:\n"
   ]
  },
  {
   "cell_type": "code",
   "execution_count": null,
   "metadata": {},
   "outputs": [],
   "source": [
    "## Static Hypergraphs are immutable. You can't add or remove nodes or edges.\n",
    "## Uncomment the last line and try it:\n",
    "new_edge = hnx.Entity('D',[4,5,6])\n",
    "# SSH.add_edge(new_edge)"
   ]
  },
  {
   "cell_type": "code",
   "execution_count": null,
   "metadata": {},
   "outputs": [],
   "source": [
    "## But you can remove the static property and create a new hypergraph \n",
    "## This will also remove the benefits of an immutable datastructure and may slow things down.\n",
    "SSH = SSH.remove_static()\n",
    "SSH.add_edge(new_edge)"
   ]
  },
  {
   "cell_type": "markdown",
   "metadata": {},
   "source": [
    "## State Dictionary\n",
    "Since a static hypergraph does not lose nodes and edges, metrics computed on the hypergraph will persist. We store them in a state dictionary. \n",
    "\n",
    "Let $H$ be the Hogwarts hypergraph we constructed above."
   ]
  },
  {
   "cell_type": "code",
   "execution_count": null,
   "metadata": {},
   "outputs": [],
   "source": [
    "H.state_dict"
   ]
  },
  {
   "cell_type": "markdown",
   "metadata": {},
   "source": [
    "### The output of certain methods are automatically stored in the state dictionary once they are computed."
   ]
  },
  {
   "cell_type": "code",
   "execution_count": null,
   "metadata": {},
   "outputs": [],
   "source": [
    "H.incidence_matrix().todense()\n",
    "H.state_dict"
   ]
  },
  {
   "cell_type": "markdown",
   "metadata": {},
   "source": [
    "### They can be retrieved by their keys. But will automatically be retrieved when the method is called again to avoid duplicating the computation."
   ]
  },
  {
   "cell_type": "code",
   "execution_count": null,
   "metadata": {},
   "outputs": [],
   "source": [
    "H.state_dict['incidence_matrix'].todense()"
   ]
  },
  {
   "cell_type": "markdown",
   "metadata": {},
   "source": [
    "## Most Hypergraph methods apply to Static Hypergraphs\n",
    "Any method, which does not change the data and labels of the underlying StaticEntitySet, can be used by the static Hypergraph."
   ]
  },
  {
   "cell_type": "code",
   "execution_count": null,
   "metadata": {},
   "outputs": [],
   "source": [
    "H.dataframe()"
   ]
  },
  {
   "cell_type": "markdown",
   "metadata": {},
   "source": [
    "### Restrict to specific edges and nodes"
   ]
  },
  {
   "cell_type": "code",
   "execution_count": null,
   "metadata": {
    "scrolled": true
   },
   "outputs": [],
   "source": [
    "HF = H.restrict_to_edges(['Gryffindor','Ravenclaw','Slytherin','Hufflepuff'])\n",
    "HF.dataframe()"
   ]
  },
  {
   "cell_type": "code",
   "execution_count": null,
   "metadata": {},
   "outputs": [],
   "source": [
    "fig,ax = plt.subplots(1,2,figsize=(15,6))\n",
    "hnx.draw(H,ax=ax[0]);\n",
    "hnx.draw(H.dual())\n",
    "H.edges"
   ]
  },
  {
   "cell_type": "markdown",
   "metadata": {},
   "source": [
    "## Collapse identical elements\n",
    "This method exists to collapse identical nodes and edges and is implemented for dynamic hypergraphs.\n",
    "We wish to do the same for large unwieldy hypergraphs stored as static."
   ]
  },
  {
   "cell_type": "code",
   "execution_count": null,
   "metadata": {},
   "outputs": [],
   "source": [
    "pos = {'Unknown House': [-0.11,  0.4 ],\n",
    " 'Gryffindor': [-0.32,  0.27],\n",
    " 'Ravenclaw': [0.57, 0.27],\n",
    " 'Hufflepuff': [-0.02,  0.16],\n",
    " 'Slytherin': [-0.02, -0.51],\n",
    " 'Durmstrang Institute': [-0.09, -1.  ],\n",
    " 'Unknown Blood status': [0.15, 0.66],\n",
    " 'Half-blood': [0.24, 0.04],\n",
    " 'Pure-blood': [-0.45, -0.08],\n",
    " 'Pure-blood or half-blood': [ 0.05, -0.21]}"
   ]
  },
  {
   "cell_type": "code",
   "execution_count": null,
   "metadata": {},
   "outputs": [],
   "source": [
    "nodes = ['Pure-blood or half-blood',  'Unknown Blood status', 'Pure-blood', 'Half-blood',  ]\n",
    "Hn = H.restrict_to_nodes(nodes)\n",
    "hnx.draw(Hn,pos=pos)"
   ]
  },
  {
   "cell_type": "code",
   "execution_count": null,
   "metadata": {},
   "outputs": [],
   "source": [
    "Hc,clses = Hn.collapse_edges(return_equivalence_classes=True)\n",
    "\n",
    "fig,ax = plt.subplots(1,2,figsize=(15,6))\n",
    "hnx.draw(Hn,ax=ax[0],pos=pos);\n",
    "ax[0].set_title('original',fontsize=20,color='r')\n",
    "hnx.draw(Hc,ax=ax[1],pos=pos);\n",
    "ax[1].set_title('collapsed',fontsize=20,color='r');\n",
    "clses"
   ]
  },
  {
   "cell_type": "markdown",
   "metadata": {},
   "source": [
    "### More hypergraph methods"
   ]
  },
  {
   "cell_type": "code",
   "execution_count": null,
   "metadata": {},
   "outputs": [],
   "source": [
    "## bipartite\n",
    "G = H.bipartite() ## this is a NetworkX graph\n",
    "cmap = ['r' if G.nodes[n]['bipartite']==0 else 'cyan' for n in G.nodes ]\n",
    "top = nx.bipartite.sets(G)[0]\n",
    "pos = nx.bipartite_layout(G, top)\n",
    "nx.draw(H.bipartite(),node_color=cmap,with_labels=True, pos=pos)"
   ]
  },
  {
   "cell_type": "code",
   "execution_count": null,
   "metadata": {},
   "outputs": [],
   "source": [
    "## reporting\n",
    "print(hnx.info(H))"
   ]
  },
  {
   "cell_type": "code",
   "execution_count": null,
   "metadata": {},
   "outputs": [],
   "source": [
    "## Once the dist stats are computed, they are stored in the state dict for fast recall and reference\n",
    "hnx.dist_stats(H)"
   ]
  },
  {
   "cell_type": "code",
   "execution_count": null,
   "metadata": {},
   "outputs": [],
   "source": [
    "H.state_dict"
   ]
  },
  {
   "cell_type": "code",
   "execution_count": null,
   "metadata": {},
   "outputs": [],
   "source": [
    "## toplexes\n",
    "fig,ax = plt.subplots(1,2,figsize=(15,6))\n",
    "pos = hnx.draw(H,ax=ax[0],return_pos=True)\n",
    "hnx.draw(H.toplexes(),ax=ax[1],pos=pos)"
   ]
  }
 ],
 "metadata": {
  "kernelspec": {
   "display_name": "Python 3 (ipykernel)",
   "language": "python",
   "name": "python3"
  },
  "language_info": {
   "codemirror_mode": {
    "name": "ipython",
    "version": 3
   },
   "file_extension": ".py",
   "mimetype": "text/x-python",
   "name": "python",
   "nbconvert_exporter": "python",
   "pygments_lexer": "ipython3",
   "version": "3.7.10"
  }
 },
 "nbformat": 4,
 "nbformat_minor": 2
}
